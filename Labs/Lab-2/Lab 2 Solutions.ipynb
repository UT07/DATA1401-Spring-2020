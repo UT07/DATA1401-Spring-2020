{
  "nbformat": 4,
  "nbformat_minor": 0,
  "metadata": {
    "kernelspec": {
      "name": "python3",
      "display_name": "Python 3"
    },
    "colab": {
      "name": "Copy of Lab-2.ipynb",
      "provenance": [],
      "collapsed_sections": [],
      "toc_visible": true
    }
  },
  "cells": [
    {
      "cell_type": "markdown",
      "metadata": {
        "id": "uk7yc0nadBGa",
        "colab_type": "text"
      },
      "source": [
        "# Lab 2\n",
        "\n",
        "[![Open In Colab](https://colab.research.google.com/assets/colab-badge.svg)](https://colab.research.google.com/github//afarbin/DATA1401-Spring-2020/blob/master/Labs/Lab-2/Lab-2.ipynb)\n",
        "\n",
        "## Submitting lab solutions\n",
        "\n",
        "At the end of the previous lab, you should have set up a \"Solutions\" directory in your Google Drive, with a fork of the class git repository that pull from Dr. Farbin's verison and pushes to your own fork. \n",
        "\n",
        "Unfortunately due to a typo in the previous lab, you probably forked the 2019 version of the gitlab repository for this course. Unless you noticed and corrected the error, you'll have to fork again.\n",
        "\n",
        "In addition, due to some problems with the setup in Google Colab, we will be submitting our solutions to your fork using the web interface. Instructions on how to use the command-line are in this notebook, but we suggest you do not follow them unless you are working in a jupyter notebook and not Google Colab."
      ]
    },
    {
      "cell_type": "code",
      "metadata": {
        "id": "lre1Ffk6JoSr",
        "colab_type": "code",
        "outputId": "d3765927-7846-4580-d662-ac4576c412ec",
        "colab": {
          "base_uri": "https://localhost:8080/",
          "height": 122
        }
      },
      "source": [
        "from google.colab import drive\n",
        "drive.mount('/content/drive')"
      ],
      "execution_count": 0,
      "outputs": [
        {
          "output_type": "stream",
          "text": [
            "Go to this URL in a browser: https://accounts.google.com/o/oauth2/auth?client_id=947318989803-6bn6qk8qdgf4n4g3pfee6491hc0brc4i.apps.googleusercontent.com&redirect_uri=urn%3aietf%3awg%3aoauth%3a2.0%3aoob&response_type=code&scope=email%20https%3a%2f%2fwww.googleapis.com%2fauth%2fdocs.test%20https%3a%2f%2fwww.googleapis.com%2fauth%2fdrive%20https%3a%2f%2fwww.googleapis.com%2fauth%2fdrive.photos.readonly%20https%3a%2f%2fwww.googleapis.com%2fauth%2fpeopleapi.readonly\n",
            "\n",
            "Enter your authorization code:\n",
            "··········\n",
            "Mounted at /content/drive\n"
          ],
          "name": "stdout"
        }
      ]
    },
    {
      "cell_type": "markdown",
      "metadata": {
        "id": "OMNaOnRksNK3",
        "colab_type": "text"
      },
      "source": [
        "You may also choose to delete the fork from your GitHub account. "
      ]
    },
    {
      "cell_type": "markdown",
      "metadata": {
        "colab_type": "text",
        "id": "J_R64sQDqv0A"
      },
      "source": [
        "## Repeating last steps of Lab 1\n",
        "\n",
        "### Create your own fork\n",
        "We will create a new fork where you can keep track and submit your work, following [these instructions](https://help.github.com/articles/fork-a-repo/).\n",
        "\n",
        "Goto to github.com and log in.\n",
        "\n",
        "Next, create a fork of the [2020 class repository](https://github.com/afarbin/DATA1401-Spring-2020). Click the link and press the \"Fork\" button on the top right. Select your repository as where you want to place the fork.\n"
      ]
    },
    {
      "cell_type": "markdown",
      "metadata": {
        "colab_type": "text",
        "id": "edTvE6rOqv0C"
      },
      "source": [
        "### Make a local clone (Advanced)\n",
        "\n",
        "Before we get started, please mount your Google Drive using by clicking the file icon on the left, then clicking \"Mount Drive\", and following the instructions as you did in the previous lab.\n",
        "\n",
        "If you did complete Lab 1 and therefore created a 2019 fork and a local clone in you Google Drive, delete the local clone:\n",
        "\n"
      ]
    },
    {
      "cell_type": "code",
      "metadata": {
        "id": "2u6B-rfNr1wN",
        "colab_type": "code",
        "colab": {}
      },
      "source": [
        "!rm -rf drive/My\\ Drive/Data-1401-Repo"
      ],
      "execution_count": 0,
      "outputs": []
    },
    {
      "cell_type": "markdown",
      "metadata": {
        "id": "BDVI5nu8-2RH",
        "colab_type": "text"
      },
      "source": [
        "Now we will check out your fork in your Google Drive / Colab. If you will be doing everything on your own computer instead of Google Colab/Drive, you are welcome to install Git on your computer and perform the following steps (appropriately modified) on your computer instead.\n",
        "\n",
        "Start by listing the contents of your current directory."
      ]
    },
    {
      "cell_type": "code",
      "metadata": {
        "colab_type": "code",
        "id": "e5tXg0f8qv0D",
        "outputId": "12755454-a254-4c15-bf81-f92cf56e77d4",
        "colab": {
          "base_uri": "https://localhost:8080/",
          "height": 68
        }
      },
      "source": [
        "%cd /content/drive/My\\ Drive\n",
        "!ls"
      ],
      "execution_count": 1,
      "outputs": [
        {
          "output_type": "stream",
          "text": [
            "[Errno 2] No such file or directory: '/content/drive/My Drive'\n",
            "/content\n",
            "sample_data\n"
          ],
          "name": "stdout"
        }
      ]
    },
    {
      "cell_type": "markdown",
      "metadata": {
        "colab_type": "text",
        "id": "WYsyYcg1qv0J"
      },
      "source": [
        "Make a new directory:"
      ]
    },
    {
      "cell_type": "code",
      "metadata": {
        "colab_type": "code",
        "id": "Z7noY1hMqv0L",
        "outputId": "6072ea19-8b00-4def-bd5f-9f7f29fd67b5",
        "colab": {
          "base_uri": "https://localhost:8080/",
          "height": 34
        }
      },
      "source": [
        "!mkdir Data-1401-Repo\n",
        "%cd Data-1401-Repo"
      ],
      "execution_count": 0,
      "outputs": [
        {
          "output_type": "stream",
          "text": [
            "/content/drive/My Drive/Data-1401-Repo\n"
          ],
          "name": "stdout"
        }
      ]
    },
    {
      "cell_type": "markdown",
      "metadata": {
        "colab_type": "text",
        "id": "fwsBdTnYqv0Q"
      },
      "source": [
        "From the github page for your fork, press the green \"Clone or download\" button and copy the URL.\n",
        "\n",
        "Goto to your notebook and use the following command to clone the repository, pasting the URL you just copied:\n"
      ]
    },
    {
      "cell_type": "code",
      "metadata": {
        "colab_type": "code",
        "id": "8w42MH6Jqv0S",
        "colab": {}
      },
      "source": [
        "# What you past here should look like:\n",
        "#!git clone https://github.com/<github username/DATA1401-Spring-2020.git\n"
      ],
      "execution_count": 0,
      "outputs": []
    },
    {
      "cell_type": "markdown",
      "metadata": {
        "colab_type": "text",
        "id": "cOAuqTVUqv0V"
      },
      "source": [
        "Go into the directory:"
      ]
    },
    {
      "cell_type": "code",
      "metadata": {
        "colab_type": "code",
        "id": "b1Ew4tEZqv0X",
        "outputId": "5c569531-efd8-44dc-b651-23c6aedff63a",
        "colab": {
          "base_uri": "https://localhost:8080/",
          "height": 51
        }
      },
      "source": [
        "%cd DATA1401-Spring-2020\n",
        "!ls"
      ],
      "execution_count": 0,
      "outputs": [
        {
          "output_type": "stream",
          "text": [
            "[Errno 2] No such file or directory: 'DATA1401-Spring-2020'\n",
            "/content/drive/My Drive/Data-1401-Repo\n"
          ],
          "name": "stdout"
        }
      ]
    },
    {
      "cell_type": "markdown",
      "metadata": {
        "colab_type": "text",
        "id": "IrhWToc-qv0a"
      },
      "source": [
        "We will now connect your fork to the original so you can pull changes from there. \n",
        "\n",
        "Check remote status:"
      ]
    },
    {
      "cell_type": "code",
      "metadata": {
        "colab_type": "code",
        "id": "JxtMYR-9qv0c",
        "colab": {}
      },
      "source": [
        "!git remote -v"
      ],
      "execution_count": 0,
      "outputs": []
    },
    {
      "cell_type": "markdown",
      "metadata": {
        "colab_type": "text",
        "id": "9ud3X0fBqv0f"
      },
      "source": [
        "Now use the original class URL to set your upstream:"
      ]
    },
    {
      "cell_type": "code",
      "metadata": {
        "colab_type": "code",
        "id": "pgJlKxBqqv0h",
        "colab": {}
      },
      "source": [
        "!git remote add upstream https://github.com/afarbin/DATA1401-Spring-2020.git"
      ],
      "execution_count": 0,
      "outputs": []
    },
    {
      "cell_type": "code",
      "metadata": {
        "colab_type": "code",
        "id": "id2yUEt9qv0k",
        "colab": {}
      },
      "source": [
        "!git remote -v"
      ],
      "execution_count": 0,
      "outputs": []
    },
    {
      "cell_type": "markdown",
      "metadata": {
        "colab_type": "text",
        "id": "sAkgeJ6Iqv0n"
      },
      "source": [
        "From now on, you can get the newest version of class material by using:"
      ]
    },
    {
      "cell_type": "code",
      "metadata": {
        "colab_type": "code",
        "id": "AGDsfTFLqv0o",
        "colab": {}
      },
      "source": [
        "!git pull"
      ],
      "execution_count": 0,
      "outputs": []
    },
    {
      "cell_type": "markdown",
      "metadata": {
        "colab_type": "text",
        "id": "u9RAhs5b4vXY"
      },
      "source": [
        "You should be setup now.\n",
        "\n",
        "## Make your for Private\n",
        "\n",
        "As a final step, go back to your fork in GitHub and click the \"gear\" icon to change the settings. Select \"Options\" on the left and scroll all the way down. Then click on \"Make Private\" to make your repository private. \n",
        "\n",
        "Next select the collaborators on the left and add your Professor and TA as collaborators. "
      ]
    },
    {
      "cell_type": "markdown",
      "metadata": {
        "id": "i1q1wv0IqqBL",
        "colab_type": "text"
      },
      "source": [
        "## Working on and Submitting Labs\n",
        "\n",
        "As mentioned in class, you are welcome to not use Google Colab and instead install and use your own instance of Jupyter to work on the labs.\n",
        "\n",
        "No matter where you do you work, you will submit your work into your fork of the class repository in GitHub. \n",
        "\n",
        "### Updating your fork\n",
        "\n",
        "The class repository will be updated several times a week. But your fork will not be updated, unless you do so explicitly. There are two ways for you to update your fork:\n",
        "\n",
        "1. Use GitHub's web interface to make a pull request from the course base to your fork.\n",
        "  * Goto your fork in GitHub.\n",
        "  * Press \"New Pull Request\"\n",
        "  * You should see option to select base/head repository that allows you to select \"afarbin/Data1401-Spring-2020\" as the base. If not press \"compare accross forks\".\n",
        "  * Make sure you select your fork as the head.\n",
        "  * Press \"Create a pull request\".\n",
        "  * Press \"Merge pull request\".\n",
        "  * Press \"Confirm pull\".\n",
        "\n",
        "2. Go to your clone of your fork in Google Drive (or local on your computer) that setup above and do a `git pull`. (Advanced)\n",
        "\n",
        "### Working on your labs\n",
        "\n",
        "If you are working in Google Colab, you should immediately save a copy of you labs into your Google Drive as soon as you start working, and save frequently so you don't loose your work. These copies of the labs will appear in drive/My Drive/Colab Notebooks. \n",
        "\n",
        "### Submitting your labs\n",
        "\n",
        "Once you are done with a lab and are ready to submit, you have several options:\n",
        "\n",
        "1. You can download the lab to your local computer and them commit to your GitHub fork via GitHub's web interface. \n",
        "\n",
        "  * Download by selecting \"Download .ipynb\" from the file menu.\n",
        "  * Appropriately rename the downloaded file (for example Lab-1-Solutions.ipynb).\n",
        "  * On github, navigate to the directory for the specific lab.\n",
        "  * Click on upload and upload your solutions.\n",
        "\n",
        "2. (Advanced) You can copy the lab into your fork and commit/push using the command-line. Here's how:\n",
        "\n",
        "  * Using \"cd\" command navigate to the clone of your fork in Google Drive (or local) and do  `git remote -v` to verify that things are correctly setup.\n",
        "\n",
        "  * If you are working on Google Colab, your copy of lab with your solutions is stored in contents/drive/My Drive/Colab Notebooks. Locate the your lab 1 notebook and copy and rename it into the same directory in your fork. \n",
        "\n",
        "For example: (Note we are using the full paths here just to make sure everything works... but if you are already in the fork directory, you don't need the full path everywhere)."
      ]
    },
    {
      "cell_type": "code",
      "metadata": {
        "id": "CtPQXoQMdBGg",
        "colab_type": "code",
        "colab": {}
      },
      "source": [
        "!cp /content/drive/My\\ Drive/Colab\\ Notebooks/Copy\\ of\\ Lab-2.ipynb /content/drive/My\\ Drive/Data-1401-Repo/DATA1401-Spring-2020/Labs/Lab-2/Lab-2-Solution.ipynb"
      ],
      "execution_count": 0,
      "outputs": []
    },
    {
      "cell_type": "markdown",
      "metadata": {
        "id": "b04FrL7sdBGr",
        "colab_type": "text"
      },
      "source": [
        "The reason we are renaming the file is due to a complication that you may experience when pulling updates into your fork. If a file was updated after your last pull and modifications, your modifications will likely cause a merge conflict, which can be a headache to resolve. Creating a new file side-steps this problem.\n",
        "\n",
        "Now that you have a new file in your fork, add the file into local repository:"
      ]
    },
    {
      "cell_type": "code",
      "metadata": {
        "id": "2o9JmQ1QdBGs",
        "colab_type": "code",
        "colab": {}
      },
      "source": [
        "!git add /content/drive/My\\ Drive/Data-1401-Repo/DATA1401-Spring-2020/Labs/Lab-2/Lab-2-Solution.ipynb"
      ],
      "execution_count": 0,
      "outputs": []
    },
    {
      "cell_type": "markdown",
      "metadata": {
        "id": "HX4xOctmdBG0",
        "colab_type": "text"
      },
      "source": [
        "You only need to add a file once. Next, commit this file to your local copy of the repository. If this is the first time you are doing a commit, you will have to tell git your github username."
      ]
    },
    {
      "cell_type": "code",
      "metadata": {
        "id": "Tn9jf5VXdBG1",
        "colab_type": "code",
        "colab": {}
      },
      "source": [
        "# Uncomment and modify lines below if needed\n",
        "#!git config --global user.email \"you@example.com\"\n",
        "#!git config --global user.name \"Your Name\"\n",
        "!git commit -a -m \"My Lab 2 Solutions\""
      ],
      "execution_count": 0,
      "outputs": []
    },
    {
      "cell_type": "markdown",
      "metadata": {
        "id": "JfKXTlv1dBG5",
        "colab_type": "text"
      },
      "source": [
        "You are required to provide a text message when commiting files, and the `-m` option is the nicest way to do it. If you do not supply a message, you will find yourself in a text editor (most likely vi) which is difficult to use and forced to enter a message.\n",
        "\n",
        "You will need to commit your changes every time you wish to submit any changes. So if you keep working or come back to a lab, make sure you commit your changes.\n",
        "\n",
        "Now that you committed your changes, you will need to push these changes to the fork of the package in your github account:"
      ]
    },
    {
      "cell_type": "code",
      "metadata": {
        "id": "L7UZOLYAdBG6",
        "colab_type": "code",
        "colab": {}
      },
      "source": [
        "!git push"
      ],
      "execution_count": 0,
      "outputs": []
    },
    {
      "cell_type": "markdown",
      "metadata": {
        "id": "3dI_D9PAdBG-",
        "colab_type": "text"
      },
      "source": [
        "You will likely need to supply you git username and password.\n",
        "\n",
        "Your lab is now available for grading. Remember that unless you commit and push your work, it will not be seen.\n",
        "\n",
        "From now on, use this procedure to submit your solutions to labs, including the remainder of this lab. \n",
        "\n",
        "You can work in your Solutions directory if you like. But note that it may be a good practice to use the \"File\" menu to duplicate and remain labs when you first start. Besides letting you avoid having to do the copy later, you will have a copy of the original notebook, in case you delete something and can pull updates, in case of bug fixes."
      ]
    },
    {
      "cell_type": "markdown",
      "metadata": {
        "id": "q-gMWiE4dBG_",
        "colab_type": "text"
      },
      "source": [
        "## Python Programming\n",
        "\n",
        "In the remainder of this lab you will practice python by solving some simple exercises. \n",
        "\n",
        "*Exercise 1:* Write 2 functions `even(x)` and `odd(x)` that take an integer and returns True if the input is even or odd, otherwise returns False. Use cell below for your solution. Use the subsequent cell to demonstrate that your solution works. Feel free to add additional cell as needed using the \"+\" button on the button bar above. "
      ]
    },
    {
      "cell_type": "code",
      "metadata": {
        "id": "jwN5jff1dBG_",
        "colab_type": "code",
        "colab": {}
      },
      "source": [
        "# Write you solution here\n",
        "def even(x):\n",
        "  if(x%2==0):\n",
        "    return True\n",
        "  else:\n",
        "    return False  \n",
        "\n",
        "def odd(x):   \n",
        "  if(x%2!=0):\n",
        "    return True\n",
        "  else:\n",
        "    return False\n",
        "\n"
      ],
      "execution_count": 0,
      "outputs": []
    },
    {
      "cell_type": "code",
      "metadata": {
        "id": "xNJAcodhdBHB",
        "colab_type": "code",
        "outputId": "b27fd39b-efd3-4109-ed03-630a998dae9a",
        "colab": {
          "base_uri": "https://localhost:8080/",
          "height": 85
        }
      },
      "source": [
        "# Test your solution here\n",
        "  print(even(2))\n",
        "  print (even(3))\n",
        "  print(odd(3))\n",
        "  print (even(5))\n"
      ],
      "execution_count": 0,
      "outputs": [
        {
          "output_type": "stream",
          "text": [
            "True\n",
            "False\n",
            "True\n",
            "False\n"
          ],
          "name": "stdout"
        }
      ]
    },
    {
      "cell_type": "markdown",
      "metadata": {
        "id": "KL_pyzG8dBHD",
        "colab_type": "text"
      },
      "source": [
        "*Exercise 2:* Write a function that takes a list of numbers as input and returns a list of the subset of elements that are less that 10. Test your solution."
      ]
    },
    {
      "cell_type": "code",
      "metadata": {
        "colab_type": "code",
        "id": "Av9tUvnXU0Qn",
        "colab": {}
      },
      "source": [
        "# Write you solution here\n",
        "def less( l):\n",
        "  l2=[]\n",
        "  for i in l:\n",
        "    if i < 10:\n",
        "      l2.append(i)\n",
        "  return l2    \n",
        "    \n"
      ],
      "execution_count": 0,
      "outputs": []
    },
    {
      "cell_type": "code",
      "metadata": {
        "id": "__HTUWA1dBHH",
        "colab_type": "code",
        "outputId": "70e99dbd-088e-467d-be53-3148e0f31d91",
        "colab": {
          "base_uri": "https://localhost:8080/",
          "height": 35
        }
      },
      "source": [
        "# Test your solution here\n",
        "lst =[12,10,11,5,6,8,9]\n",
        "print(less(lst))"
      ],
      "execution_count": 0,
      "outputs": [
        {
          "output_type": "stream",
          "text": [
            "[5, 6, 8, 9]\n"
          ],
          "name": "stdout"
        }
      ]
    },
    {
      "cell_type": "markdown",
      "metadata": {
        "id": "T0cx91JudBHK",
        "colab_type": "text"
      },
      "source": [
        "*Exercise 3:* Write a function that takes a number `x_max` as input and returns a function that performs the same task as exercise 2, but for `x_max` instead of 10."
      ]
    },
    {
      "cell_type": "code",
      "metadata": {
        "id": "PqummMcmdBHK",
        "colab_type": "code",
        "colab": {}
      },
      "source": [
        "# Write you solution here\n",
        "def maxi (x_max):\n",
        "   def L (lst):\n",
        "     L2=[]\n",
        "     for i in lst:\n",
        "       if i < x_max:\n",
        "         L2.append(i)\n",
        "     return L2 \n",
        "   return L   "
      ],
      "execution_count": 0,
      "outputs": []
    },
    {
      "cell_type": "code",
      "metadata": {
        "id": "evRYemjXdBHN",
        "colab_type": "code",
        "outputId": "43551302-03cc-4a22-a0ac-c51a3688aa4c",
        "colab": {
          "base_uri": "https://localhost:8080/",
          "height": 35
        }
      },
      "source": [
        "# Test your solution here\n",
        "lst =[20,30,40,50]\n",
        "under20=maxi(60)\n",
        "print(under20(lst))"
      ],
      "execution_count": 0,
      "outputs": [
        {
          "output_type": "stream",
          "text": [
            "[20, 30, 40, 50]\n"
          ],
          "name": "stdout"
        }
      ]
    },
    {
      "cell_type": "markdown",
      "metadata": {
        "id": "h0I8M27LdBHP",
        "colab_type": "text"
      },
      "source": [
        "*Exercise 4:* Write a function that takes an interger as input and returns a list of all divisors of that number."
      ]
    },
    {
      "cell_type": "code",
      "metadata": {
        "id": "k6GUpDyrdBHP",
        "colab_type": "code",
        "colab": {}
      },
      "source": [
        "# Write you solution here\n",
        "def lis(x):\n",
        "  l2=[]\n",
        "  i=1\n",
        "  while i <=x:\n",
        "    if x%i==0:\n",
        "      l2.append(i)\n",
        "    i=i+1\n",
        "  return l2    \n"
      ],
      "execution_count": 0,
      "outputs": []
    },
    {
      "cell_type": "code",
      "metadata": {
        "id": "YDvRmft-dBHR",
        "colab_type": "code",
        "outputId": "9604dd74-c824-4f4a-9e84-b6c1b5dd9f94",
        "colab": {
          "base_uri": "https://localhost:8080/",
          "height": 35
        }
      },
      "source": [
        "# Test your solution here\n",
        "print(lis(10))"
      ],
      "execution_count": 0,
      "outputs": [
        {
          "output_type": "stream",
          "text": [
            "[1, 2, 5, 10]\n"
          ],
          "name": "stdout"
        }
      ]
    },
    {
      "cell_type": "markdown",
      "metadata": {
        "id": "IOWnLMvxdBHT",
        "colab_type": "text"
      },
      "source": [
        "*Exercise 5:* Write a function that takes 2 lists as input and returns a list that contains only the elements that are common between the lists (without duplicates). Make sure your program works on two lists of different sizes."
      ]
    },
    {
      "cell_type": "code",
      "metadata": {
        "id": "tR31bnTDdBHT",
        "colab_type": "code",
        "colab": {}
      },
      "source": [
        "# Write you solution here\n",
        "def comp (l1,l2):\n",
        "  l3=[]\n",
        "  for i in l1:\n",
        "    if i in l1 and i in l2 and i not in l3:\n",
        "      l3.append(i)\n",
        "  return l3    \n",
        "\n"
      ],
      "execution_count": 0,
      "outputs": []
    },
    {
      "cell_type": "code",
      "metadata": {
        "id": "IJDf6ebYdBHV",
        "colab_type": "code",
        "outputId": "647736d6-1b97-40d3-a7ac-f2825baf74a2",
        "colab": {
          "base_uri": "https://localhost:8080/",
          "height": 35
        }
      },
      "source": [
        "# Test your solution here\n",
        "a = [1, 1, 2, 3, 5, 8, 13, 21, 34, 55, 89]\n",
        "b = [1, 2, 3, 4, 5, 6, 7, 8, 9, 10, 11, 12, 13]\n",
        "print(comp(a,b))"
      ],
      "execution_count": 0,
      "outputs": [
        {
          "output_type": "stream",
          "text": [
            "[1, 2, 3, 5, 8, 13]\n"
          ],
          "name": "stdout"
        }
      ]
    },
    {
      "cell_type": "markdown",
      "metadata": {
        "id": "3vA7M9pldBHX",
        "colab_type": "text"
      },
      "source": [
        "*Exercise 6:* Write a function that reads takes a string and returns `True` if the string is a palindrome. (A palindrome is a string that reads the same forwards and backwards.)"
      ]
    },
    {
      "cell_type": "code",
      "metadata": {
        "id": "ncyMDzp6dBHX",
        "colab_type": "code",
        "colab": {}
      },
      "source": [
        "# Write you solution here\n",
        "def reverse(s1):\n",
        "  return s1[::-1]\n",
        "def pal(s1):\n",
        "  s2=reverse(s1)\n",
        "  if s1==s2:\n",
        "    return True\n",
        "  else:\n",
        "    return False  "
      ],
      "execution_count": 0,
      "outputs": []
    },
    {
      "cell_type": "code",
      "metadata": {
        "id": "v5cmVQ6MdBHZ",
        "colab_type": "code",
        "outputId": "82f627a4-73a4-41df-b6bc-caa3be20e7c7",
        "colab": {
          "base_uri": "https://localhost:8080/",
          "height": 51
        }
      },
      "source": [
        "# Test your solution here\n",
        "s1=\"naman\"\n",
        "print(pal(s1))\n",
        "print(pal('sit'))"
      ],
      "execution_count": 0,
      "outputs": [
        {
          "output_type": "stream",
          "text": [
            "True\n",
            "False\n"
          ],
          "name": "stdout"
        }
      ]
    },
    {
      "cell_type": "markdown",
      "metadata": {
        "id": "fT35xwandBHc",
        "colab_type": "text"
      },
      "source": [
        "*Exercise 7:* Write a Rock-Paper-Scissors game function, that takes 2 strings, the inputs of player 1 and player 2, and output 1 or 2 corresponding to which player wins, or 0 if draw.\n",
        "\n",
        "Implement a Rock-Paper-Scissors game by soliciting input from 2 players, testing with this function, and repeating if there is a draw.\n",
        "\n",
        "Remember the rules:\n",
        "\n",
        "* Rock beats scissors\n",
        "* Scissors beats paper\n",
        "* Paper beats rock"
      ]
    },
    {
      "cell_type": "code",
      "metadata": {
        "id": "U1_HxxaWdBHd",
        "colab_type": "code",
        "colab": {}
      },
      "source": [
        "# Write you solution here\n",
        "def game():\n",
        "  print (\"Player 1 enter your choice: \")\n",
        "  p1=input()\n",
        "  print (\"Player 2 enter your choice: \")\n",
        "  p2=input()\n",
        "  x=p1.lower()\n",
        "  y=p2.lower()\n",
        " \n",
        "  while True:\n",
        "    if (x==\"rock\" and y==\"scissors\")or(x==\"scissors\" and y==\"paper\")or(x==\"paper\" and y==\"rock\"):\n",
        "      return (\"Player 1 Wins\")\n",
        "      break\n",
        "    elif (y==\"rock\" and x==\"scissors\")or(y==\"scissors\" and x==\"paper\")or(y==\"paper\" and x==\"rock\"):\n",
        "      return (\"Player 2 Wins\")\n",
        "      break \n",
        "    else:\n",
        "      print(\"Its a draw\")\n",
        "      x=int(input(\"Player 1 input again\"))\n",
        "      y=int(input(\"Player 2 input again\"))\n",
        "      "
      ],
      "execution_count": 0,
      "outputs": []
    },
    {
      "cell_type": "code",
      "metadata": {
        "id": "ooR2ldZBdBHf",
        "colab_type": "code",
        "outputId": "1da94886-4007-45cc-8335-09dd1c069da3",
        "colab": {
          "base_uri": "https://localhost:8080/",
          "height": 102
        }
      },
      "source": [
        "# Test your solution here\n",
        "print(game())\n"
      ],
      "execution_count": 0,
      "outputs": [
        {
          "output_type": "stream",
          "text": [
            "Player 1 enter your choice: \n",
            "scissors\n",
            "Player 2 enter your choice: \n",
            "paper\n",
            "Player 1 Wins\n"
          ],
          "name": "stdout"
        }
      ]
    },
    {
      "cell_type": "markdown",
      "metadata": {
        "id": "dJQzXNKzdBHh",
        "colab_type": "text"
      },
      "source": [
        "*Exercise 8:* Write a function that takes a integer `n` as input and \n",
        "outputs a list of the first `n` Fibonnaci numbers.\n",
        "\n",
        "The Fibonnaci seqence is a sequence of numbers where the next number in the sequence is the sum of the previous two numbers in the sequence. The sequence looks like this: 1, 1, 2, 3, 5, 8, 13, …)"
      ]
    },
    {
      "cell_type": "code",
      "metadata": {
        "id": "G_4ooRXTdBHh",
        "colab_type": "code",
        "colab": {}
      },
      "source": [
        "# Write you solution here\n",
        "def f (x):\n",
        "  fib=[]\n",
        "  a=0\n",
        "  b=1\n",
        "  if x<0:\n",
        "    return \"invalid\"\n",
        "  if x==0:\n",
        "    return a\n",
        "  if x==1:\n",
        "    return b  \n",
        "  fib.append(a) \n",
        "  fib.append(b) \n",
        "  for i in range(2,x):\n",
        "    Next=a+b\n",
        "    a=b\n",
        "    b=Next\n",
        "    fib.append(b)\n",
        "  return fib  \n",
        "    \n",
        "\n"
      ],
      "execution_count": 0,
      "outputs": []
    },
    {
      "cell_type": "code",
      "metadata": {
        "id": "rzK5FskJdBHj",
        "colab_type": "code",
        "outputId": "82bda2c7-a863-466a-8abb-354e0aeb75a3",
        "colab": {
          "base_uri": "https://localhost:8080/",
          "height": 34
        }
      },
      "source": [
        "# Test your solution here\n",
        "print(f(3))"
      ],
      "execution_count": 0,
      "outputs": [
        {
          "output_type": "stream",
          "text": [
            "[0, 1, 1]\n"
          ],
          "name": "stdout"
        }
      ]
    },
    {
      "cell_type": "markdown",
      "metadata": {
        "id": "q6c_AskadBHl",
        "colab_type": "text"
      },
      "source": [
        "*Exercise 9:* Write a function that takes a string of consisting of several words and returns a string that reverses the order of the words.\n"
      ]
    },
    {
      "cell_type": "code",
      "metadata": {
        "id": "aJdXX6FHdBHl",
        "colab_type": "code",
        "colab": {}
      },
      "source": [
        "# Write you solution here\n",
        "def reverse (s1):\n",
        "  new=s1.split(\" \")\n",
        "  new=new[::-1]\n",
        "  result =' '.join(new)\n",
        "  return result\n"
      ],
      "execution_count": 0,
      "outputs": []
    },
    {
      "cell_type": "code",
      "metadata": {
        "id": "nQyhnLZ_dBHn",
        "colab_type": "code",
        "outputId": "d4bed665-7e38-48ec-fce2-1bdf19bc2ddc",
        "colab": {
          "base_uri": "https://localhost:8080/",
          "height": 34
        }
      },
      "source": [
        "# Test your solution here\n",
        "print (reverse(\"python is fun\"))"
      ],
      "execution_count": 0,
      "outputs": [
        {
          "output_type": "stream",
          "text": [
            "fun is python\n"
          ],
          "name": "stdout"
        }
      ]
    },
    {
      "cell_type": "markdown",
      "metadata": {
        "id": "NFSmRaSydBHq",
        "colab_type": "text"
      },
      "source": [
        "*Exercise 10:* Write a guessing game program that will repeatedly guess a number that the users picks, with the user indicating higher or lower, until it correctly guesses the number."
      ]
    },
    {
      "cell_type": "code",
      "metadata": {
        "id": "Ie2E1JzCdBHr",
        "colab_type": "code",
        "colab": {}
      },
      "source": [
        "# Write you solution here\n",
        "import random\n",
        "def guess():\n",
        "  print(\"Guess the number between 1 and 100\")\n",
        "  number=random.randint(1,100)\n",
        "  while True:\n",
        "   guess=int(input(\"Enter your guess \\n\"))\n",
        "   if guess > number:\n",
        "     print(\"higher\")\n",
        "   if guess < number:\n",
        "     print (\"lower\")\n",
        "   if guess==number:\n",
        "     print(\"Good Job!\")\n",
        "     break  \n",
        "\n",
        "        \n",
        "\n",
        "\n",
        "\n",
        "    \n",
        "\n",
        "\n",
        "    "
      ],
      "execution_count": 0,
      "outputs": []
    },
    {
      "cell_type": "code",
      "metadata": {
        "id": "6T8YdWSMdBHs",
        "colab_type": "code",
        "outputId": "d0983077-dfa1-4487-94f4-602360d01401",
        "colab": {
          "base_uri": "https://localhost:8080/",
          "height": 561
        }
      },
      "source": [
        "# Test your solution here\n",
        "print(guess())"
      ],
      "execution_count": 0,
      "outputs": [
        {
          "output_type": "stream",
          "text": [
            "Guess the number between 1 and 100\n",
            "Enter your guess \n",
            "30\n",
            "lower\n",
            "Enter your guess \n",
            "40\n",
            "lower\n",
            "Enter your guess \n",
            "50\n",
            "lower\n",
            "Enter your guess \n",
            "60\n",
            "lower\n",
            "Enter your guess \n",
            "70\n",
            "lower\n",
            "Enter your guess \n",
            "80\n",
            "lower\n",
            "Enter your guess \n",
            "90\n",
            "higher\n",
            "Enter your guess \n",
            "85\n",
            "higher\n",
            "Enter your guess \n",
            "83\n",
            "lower\n",
            "Enter your guess \n",
            "84\n",
            "Good Job!\n",
            "None\n"
          ],
          "name": "stdout"
        }
      ]
    }
  ]
}